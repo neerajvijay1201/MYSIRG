{
 "cells": [
  {
   "cell_type": "code",
   "execution_count": 1,
   "id": "3c719f27-d4a4-4230-89e9-fbefd9a2b309",
   "metadata": {},
   "outputs": [],
   "source": [
    "#1 write  a lambda expression to check if a number is even"
   ]
  },
  {
   "cell_type": "code",
   "execution_count": 21,
   "id": "da2f1924-733f-4a8f-a8c8-76dd16830edc",
   "metadata": {},
   "outputs": [],
   "source": [
    "even_number=lambda x: \"even\" if x%2==0 else \"odd\""
   ]
  },
  {
   "cell_type": "code",
   "execution_count": 22,
   "id": "2a0fb62a-6ce2-4599-ba4c-09f0cb4deb30",
   "metadata": {},
   "outputs": [
    {
     "data": {
      "text/plain": [
       "'odd'"
      ]
     },
     "execution_count": 22,
     "metadata": {},
     "output_type": "execute_result"
    }
   ],
   "source": [
    "even_number(9)"
   ]
  },
  {
   "cell_type": "code",
   "execution_count": 23,
   "id": "61db0c82-a04d-4571-928f-793ef0788e1b",
   "metadata": {},
   "outputs": [],
   "source": [
    "#3 python program  lambda expression to calculate the area of circle\n",
    "area_circle=lambda r: 3.14*r**2"
   ]
  },
  {
   "cell_type": "code",
   "execution_count": 26,
   "id": "dcfa210a-3c0d-4a16-96ed-d9c6c2331c6f",
   "metadata": {},
   "outputs": [
    {
     "data": {
      "text/plain": [
       "3.14"
      ]
     },
     "execution_count": 26,
     "metadata": {},
     "output_type": "execute_result"
    }
   ],
   "source": [
    "area_circle(1)"
   ]
  },
  {
   "cell_type": "code",
   "execution_count": 28,
   "id": "3d0462ae-0c9a-478b-a8f2-d91c33456321",
   "metadata": {},
   "outputs": [
    {
     "name": "stdin",
     "output_type": "stream",
     "text": [
      "enter the string neeraj\n"
     ]
    },
    {
     "data": {
      "text/plain": [
       "6"
      ]
     },
     "execution_count": 28,
     "metadata": {},
     "output_type": "execute_result"
    }
   ],
   "source": [
    "# 5 write a lambda expression to count words in a given text\n",
    "s=input(\"enter the string\")\n",
    "string_count=lambda s:len(s)\n",
    "string_count(s)\n"
   ]
  },
  {
   "cell_type": "code",
   "execution_count": 33,
   "id": "66178296-374b-4411-a8de-ca4c3da5557a",
   "metadata": {},
   "outputs": [],
   "source": [
    "#4 write a lambda expression to find the HCF of two number\n",
    "HCF=lambda x,y: y if x%y==0  else 1 # here we consider always put x>y ok "
   ]
  },
  {
   "cell_type": "code",
   "execution_count": 37,
   "id": "b2861b96-c7b0-4821-be5c-686509f8680a",
   "metadata": {},
   "outputs": [
    {
     "data": {
      "text/plain": [
       "13"
      ]
     },
     "execution_count": 37,
     "metadata": {},
     "output_type": "execute_result"
    }
   ],
   "source": [
    "HCF(26,13)"
   ]
  },
  {
   "cell_type": "code",
   "execution_count": 64,
   "id": "795c5134-9a00-4199-bdad-10cbff9b7272",
   "metadata": {},
   "outputs": [
    {
     "name": "stdin",
     "output_type": "stream",
     "text": [
      "enter a number 7\n"
     ]
    },
    {
     "name": "stdout",
     "output_type": "stream",
     "text": [
      "13\n"
     ]
    }
   ],
   "source": [
    "#2 write a lambda expression to find nth term of fibonacci series\n",
    "fib=lambda x: 1 if x==1 else(1 if x==2 else fib(x-1)+fib(x-2))\n",
    "print(fib(int(input(\"enter a number\"))))"
   ]
  },
  {
   "cell_type": "code",
   "execution_count": 40,
   "id": "ece2ff22-f680-43b6-a364-1840f93495ae",
   "metadata": {},
   "outputs": [
    {
     "data": {
      "text/plain": [
       "1"
      ]
     },
     "execution_count": 40,
     "metadata": {},
     "output_type": "execute_result"
    }
   ],
   "source": [
    "fib(3)"
   ]
  },
  {
   "cell_type": "code",
   "execution_count": null,
   "id": "52c10bfa-a388-4c5c-99ca-d79b48b6f764",
   "metadata": {},
   "outputs": [],
   "source": []
  }
 ],
 "metadata": {
  "kernelspec": {
   "display_name": "Python 3 (ipykernel)",
   "language": "python",
   "name": "python3"
  },
  "language_info": {
   "codemirror_mode": {
    "name": "ipython",
    "version": 3
   },
   "file_extension": ".py",
   "mimetype": "text/x-python",
   "name": "python",
   "nbconvert_exporter": "python",
   "pygments_lexer": "ipython3",
   "version": "3.10.8"
  }
 },
 "nbformat": 4,
 "nbformat_minor": 5
}
