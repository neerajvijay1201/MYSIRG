{
 "cells": [
  {
   "cell_type": "code",
   "execution_count": 1,
   "id": "5b5f39f3-846a-47ae-9dc0-4efc759ce661",
   "metadata": {},
   "outputs": [
    {
     "name": "stdin",
     "output_type": "stream",
     "text": [
      "enter the value of a  1\n",
      "enter the value of b 56\n"
     ]
    },
    {
     "data": {
      "text/plain": [
       "57.0"
      ]
     },
     "execution_count": 1,
     "metadata": {},
     "output_type": "execute_result"
    }
   ],
   "source": [
    "# python program function to calculate the sum of two numbers with user inputs \n",
    "a=float(input(\"enter the value of a \"))\n",
    "b=float(input(\"enter the value of b\"))\n",
    "def sum(a,b):\n",
    "    sum=a+b\n",
    "    return sum\n",
    "sum(a,b)"
   ]
  },
  {
   "cell_type": "code",
   "execution_count": 3,
   "id": "5d760a5a-d2a4-4e3b-8c23-e002f92959b8",
   "metadata": {},
   "outputs": [
    {
     "name": "stdin",
     "output_type": "stream",
     "text": [
      "enter the radius value 2.2\n"
     ]
    },
    {
     "data": {
      "text/plain": [
       "15.197600000000003"
      ]
     },
     "execution_count": 3,
     "metadata": {},
     "output_type": "execute_result"
    }
   ],
   "source": [
    "# python function to calculate the area of circle using input radius\n",
    "r=float(input(\"enter the radius value\"))\n",
    "def area(r):\n",
    "    area=3.14*r**2\n",
    "    return area\n",
    "area(r)"
   ]
  },
  {
   "cell_type": "code",
   "execution_count": 4,
   "id": "7c983f8c-7ef2-4081-9461-bc07e4ed0ee5",
   "metadata": {},
   "outputs": [
    {
     "name": "stdin",
     "output_type": "stream",
     "text": [
      "enter the value of a 1\n",
      "enter the value of b 2\n",
      "enter the value of c 3\n"
     ]
    },
    {
     "data": {
      "text/plain": [
       "2.0"
      ]
     },
     "execution_count": 4,
     "metadata": {},
     "output_type": "execute_result"
    }
   ],
   "source": [
    "# python function to calculate the average of three numbers \n",
    "a=float(input(\"enter the value of a\"))\n",
    "b=float(input(\"enter the value of b\"))\n",
    "c=float(input(\"enter the value of c\"))\n",
    "def avg(a,b,c):\n",
    "    avg=(a+b+c)/3\n",
    "    return avg\n",
    "avg(a,b,c)\n"
   ]
  },
  {
   "cell_type": "code",
   "execution_count": null,
   "id": "730d739f-d25a-4c53-9761-7202e47b58c1",
   "metadata": {},
   "outputs": [],
   "source": [
    "# python function to calculate the compound interest\n",
    "p=float(input(\"enter the principle amount in rupees\"))\n",
    "r=float(input(\"enter the rate of interest\"))\n",
    "t=float(input(\"enter the time in year\"))\n",
    "def comp_interest(p,r,t):\n",
    "    comp_interest=p*(1+r/100)**t\n",
    "    return comp_interest \n",
    "comp_interest(p,r,t)"
   ]
  },
  {
   "cell_type": "code",
   "execution_count": 10,
   "id": "0e9649e9-2569-479d-a067-e1f8bd230bd6",
   "metadata": {},
   "outputs": [
    {
     "name": "stdin",
     "output_type": "stream",
     "text": [
      "enter the value of length 1\n",
      "enter the value of width 2\n",
      "enter the value of hight 3\n"
     ]
    },
    {
     "data": {
      "text/plain": [
       "6.0"
      ]
     },
     "execution_count": 10,
     "metadata": {},
     "output_type": "execute_result"
    }
   ],
   "source": [
    "# python function to calculate the volume of cuboid\n",
    "l=float(input(\"enter the value of length\"))\n",
    "b=float(input(\"enter the value of width\"))\n",
    "h=float(input(\"enter the value of hight\"))\n",
    "def volume(r):\n",
    "    volume=l*b*h\n",
    "    return volume\n",
    "volume(r)"
   ]
  },
  {
   "cell_type": "code",
   "execution_count": null,
   "id": "134a0ade-5d43-4a7c-a0e6-eec8fc21d98e",
   "metadata": {},
   "outputs": [],
   "source": []
  }
 ],
 "metadata": {
  "kernelspec": {
   "display_name": "Python 3 (ipykernel)",
   "language": "python",
   "name": "python3"
  },
  "language_info": {
   "codemirror_mode": {
    "name": "ipython",
    "version": 3
   },
   "file_extension": ".py",
   "mimetype": "text/x-python",
   "name": "python",
   "nbconvert_exporter": "python",
   "pygments_lexer": "ipython3",
   "version": "3.10.8"
  }
 },
 "nbformat": 4,
 "nbformat_minor": 5
}
